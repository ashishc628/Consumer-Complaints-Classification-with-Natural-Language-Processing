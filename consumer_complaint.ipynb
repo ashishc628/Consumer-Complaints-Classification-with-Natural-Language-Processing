{
 "cells": [
  {
   "cell_type": "code",
   "execution_count": 86,
   "id": "289176e0",
   "metadata": {},
   "outputs": [],
   "source": [
    "import numpy as np\n",
    "import pandas as pd\n",
    "import matplotlib.pyplot as plt\n",
    "import seaborn as sns\n",
    "import nltk\n",
    "import re\n",
    "from sklearn.feature_extraction.text import TfidfVectorizer\n",
    "from sklearn.model_selection import train_test_split\n",
    "from sklearn.ensemble import RandomForestClassifier\n",
    "from sklearn.tree import DecisionTreeClassifier\n",
    "from sklearn.metrics import confusion_matrix, classification_report \n",
    "from sklearn.metrics import f1_score, accuracy_score\n",
    "import warnings\n",
    "warnings.filterwarnings('ignore')\n",
    "from sklearn.metrics import plot_confusion_matrix\n",
    "from wordcloud import WordCloud \n",
    "import os"
   ]
  },
  {
   "cell_type": "code",
   "execution_count": 2,
   "id": "2dec7495",
   "metadata": {},
   "outputs": [],
   "source": [
    "dataFrame = pd.read_csv('complaints_processed.csv')"
   ]
  },
  {
   "cell_type": "code",
   "execution_count": 3,
   "id": "6c494957",
   "metadata": {
    "scrolled": false
   },
   "outputs": [
    {
     "data": {
      "text/html": [
       "<div>\n",
       "<style scoped>\n",
       "    .dataframe tbody tr th:only-of-type {\n",
       "        vertical-align: middle;\n",
       "    }\n",
       "\n",
       "    .dataframe tbody tr th {\n",
       "        vertical-align: top;\n",
       "    }\n",
       "\n",
       "    .dataframe thead th {\n",
       "        text-align: right;\n",
       "    }\n",
       "</style>\n",
       "<table border=\"1\" class=\"dataframe\">\n",
       "  <thead>\n",
       "    <tr style=\"text-align: right;\">\n",
       "      <th></th>\n",
       "      <th>Unnamed: 0</th>\n",
       "      <th>product</th>\n",
       "      <th>narrative</th>\n",
       "    </tr>\n",
       "  </thead>\n",
       "  <tbody>\n",
       "    <tr>\n",
       "      <th>0</th>\n",
       "      <td>0</td>\n",
       "      <td>credit_card</td>\n",
       "      <td>purchase order day shipping amount receive pro...</td>\n",
       "    </tr>\n",
       "    <tr>\n",
       "      <th>1</th>\n",
       "      <td>1</td>\n",
       "      <td>credit_card</td>\n",
       "      <td>forwarded message date tue subject please inve...</td>\n",
       "    </tr>\n",
       "    <tr>\n",
       "      <th>2</th>\n",
       "      <td>2</td>\n",
       "      <td>retail_banking</td>\n",
       "      <td>forwarded message cc sent friday pdt subject f...</td>\n",
       "    </tr>\n",
       "    <tr>\n",
       "      <th>3</th>\n",
       "      <td>3</td>\n",
       "      <td>credit_reporting</td>\n",
       "      <td>payment history missing credit report speciali...</td>\n",
       "    </tr>\n",
       "    <tr>\n",
       "      <th>4</th>\n",
       "      <td>4</td>\n",
       "      <td>credit_reporting</td>\n",
       "      <td>payment history missing credit report made mis...</td>\n",
       "    </tr>\n",
       "    <tr>\n",
       "      <th>5</th>\n",
       "      <td>5</td>\n",
       "      <td>credit_reporting</td>\n",
       "      <td>payment history missing credit report made mis...</td>\n",
       "    </tr>\n",
       "    <tr>\n",
       "      <th>6</th>\n",
       "      <td>6</td>\n",
       "      <td>credit_reporting</td>\n",
       "      <td>va date complaint experian credit bureau invol...</td>\n",
       "    </tr>\n",
       "    <tr>\n",
       "      <th>7</th>\n",
       "      <td>7</td>\n",
       "      <td>credit_reporting</td>\n",
       "      <td>account reported abbreviated name full name se...</td>\n",
       "    </tr>\n",
       "    <tr>\n",
       "      <th>8</th>\n",
       "      <td>8</td>\n",
       "      <td>credit_reporting</td>\n",
       "      <td>account reported abbreviated name full name se...</td>\n",
       "    </tr>\n",
       "    <tr>\n",
       "      <th>9</th>\n",
       "      <td>9</td>\n",
       "      <td>credit_reporting</td>\n",
       "      <td>usdoexxxx account reported abbreviated name fu...</td>\n",
       "    </tr>\n",
       "  </tbody>\n",
       "</table>\n",
       "</div>"
      ],
      "text/plain": [
       "   Unnamed: 0           product  \\\n",
       "0           0       credit_card   \n",
       "1           1       credit_card   \n",
       "2           2    retail_banking   \n",
       "3           3  credit_reporting   \n",
       "4           4  credit_reporting   \n",
       "5           5  credit_reporting   \n",
       "6           6  credit_reporting   \n",
       "7           7  credit_reporting   \n",
       "8           8  credit_reporting   \n",
       "9           9  credit_reporting   \n",
       "\n",
       "                                           narrative  \n",
       "0  purchase order day shipping amount receive pro...  \n",
       "1  forwarded message date tue subject please inve...  \n",
       "2  forwarded message cc sent friday pdt subject f...  \n",
       "3  payment history missing credit report speciali...  \n",
       "4  payment history missing credit report made mis...  \n",
       "5  payment history missing credit report made mis...  \n",
       "6  va date complaint experian credit bureau invol...  \n",
       "7  account reported abbreviated name full name se...  \n",
       "8  account reported abbreviated name full name se...  \n",
       "9  usdoexxxx account reported abbreviated name fu...  "
      ]
     },
     "execution_count": 3,
     "metadata": {},
     "output_type": "execute_result"
    }
   ],
   "source": [
    "dataFrame.head(10)"
   ]
  },
  {
   "cell_type": "code",
   "execution_count": 4,
   "id": "72d118bd",
   "metadata": {},
   "outputs": [],
   "source": [
    "dataFrame = dataFrame.sample(frac =.25)"
   ]
  },
  {
   "cell_type": "code",
   "execution_count": 5,
   "id": "5e2b898c",
   "metadata": {},
   "outputs": [
    {
     "data": {
      "text/plain": [
       "(40605, 3)"
      ]
     },
     "execution_count": 5,
     "metadata": {},
     "output_type": "execute_result"
    }
   ],
   "source": [
    "dataFrame.shape"
   ]
  },
  {
   "cell_type": "code",
   "execution_count": 6,
   "id": "9e567128",
   "metadata": {},
   "outputs": [
    {
     "name": "stdout",
     "output_type": "stream",
     "text": [
      "<class 'pandas.core.frame.DataFrame'>\n",
      "Int64Index: 40605 entries, 10741 to 2099\n",
      "Data columns (total 3 columns):\n",
      " #   Column      Non-Null Count  Dtype \n",
      "---  ------      --------------  ----- \n",
      " 0   Unnamed: 0  40605 non-null  int64 \n",
      " 1   product     40605 non-null  object\n",
      " 2   narrative   40603 non-null  object\n",
      "dtypes: int64(1), object(2)\n",
      "memory usage: 1.2+ MB\n"
     ]
    }
   ],
   "source": [
    "dataFrame.info()"
   ]
  },
  {
   "cell_type": "code",
   "execution_count": 7,
   "id": "5f04c758",
   "metadata": {},
   "outputs": [
    {
     "name": "stdout",
     "output_type": "stream",
     "text": [
      "Missing Values: Unnamed: 0    0\n",
      "product       0\n",
      "narrative     2\n",
      "dtype: int64\n"
     ]
    }
   ],
   "source": [
    "#Checking NAN values\n",
    "print('Missing Values:',dataFrame.isna().sum())"
   ]
  },
  {
   "cell_type": "code",
   "execution_count": 8,
   "id": "5ac532e6",
   "metadata": {},
   "outputs": [
    {
     "name": "stdout",
     "output_type": "stream",
     "text": [
      "Product Counts:\n",
      " credit_reporting       22677\n",
      "debt_collection         5778\n",
      "mortgages_and_loans     4813\n",
      "credit_card             3896\n",
      "retail_banking          3441\n",
      "Name: product, dtype: int64\n"
     ]
    }
   ],
   "source": [
    "#There are four classes \n",
    "print('Product Counts:\\n',dataFrame['product'].value_counts())"
   ]
  },
  {
   "cell_type": "code",
   "execution_count": 9,
   "id": "919b6919",
   "metadata": {},
   "outputs": [
    {
     "name": "stdout",
     "output_type": "stream",
     "text": [
      "* Datatype of columns are:\n",
      " Unnamed: 0     int64\n",
      "product       object\n",
      "narrative     object\n",
      "dtype: object\n",
      "\n"
     ]
    }
   ],
   "source": [
    "# Analysing dataframe attributes \n",
    "print('* Datatype of columns are:\\n {}\\n'.format(dataFrame.dtypes))"
   ]
  },
  {
   "cell_type": "code",
   "execution_count": 10,
   "id": "588ea391",
   "metadata": {},
   "outputs": [],
   "source": [
    "#Since there are very few missing values, we can drop them\n",
    "dataFrame.dropna(axis=0,inplace=True)"
   ]
  },
  {
   "cell_type": "code",
   "execution_count": 11,
   "id": "f481ac79",
   "metadata": {},
   "outputs": [
    {
     "data": {
      "text/plain": [
       "Unnamed: 0    0\n",
       "product       0\n",
       "narrative     0\n",
       "dtype: int64"
      ]
     },
     "execution_count": 11,
     "metadata": {},
     "output_type": "execute_result"
    }
   ],
   "source": [
    "dataFrame.isna().sum()"
   ]
  },
  {
   "cell_type": "code",
   "execution_count": 12,
   "id": "883eea90",
   "metadata": {},
   "outputs": [
    {
     "data": {
      "text/html": [
       "<div>\n",
       "<style scoped>\n",
       "    .dataframe tbody tr th:only-of-type {\n",
       "        vertical-align: middle;\n",
       "    }\n",
       "\n",
       "    .dataframe tbody tr th {\n",
       "        vertical-align: top;\n",
       "    }\n",
       "\n",
       "    .dataframe thead th {\n",
       "        text-align: right;\n",
       "    }\n",
       "</style>\n",
       "<table border=\"1\" class=\"dataframe\">\n",
       "  <thead>\n",
       "    <tr style=\"text-align: right;\">\n",
       "      <th></th>\n",
       "      <th>product</th>\n",
       "      <th>narrative</th>\n",
       "    </tr>\n",
       "  </thead>\n",
       "  <tbody>\n",
       "    <tr>\n",
       "      <th>10741</th>\n",
       "      <td>credit_reporting</td>\n",
       "      <td>case reporting credit file reference credit ca...</td>\n",
       "    </tr>\n",
       "    <tr>\n",
       "      <th>56763</th>\n",
       "      <td>credit_reporting</td>\n",
       "      <td>inquiry showing start authorize im blue face w...</td>\n",
       "    </tr>\n",
       "    <tr>\n",
       "      <th>68461</th>\n",
       "      <td>credit_reporting</td>\n",
       "      <td>pulled credit alerted social security card get...</td>\n",
       "    </tr>\n",
       "    <tr>\n",
       "      <th>28955</th>\n",
       "      <td>credit_reporting</td>\n",
       "      <td>victim identity notified collection creditor s...</td>\n",
       "    </tr>\n",
       "    <tr>\n",
       "      <th>145778</th>\n",
       "      <td>credit_reporting</td>\n",
       "      <td>transunion violation fair credit understanding...</td>\n",
       "    </tr>\n",
       "  </tbody>\n",
       "</table>\n",
       "</div>"
      ],
      "text/plain": [
       "                 product                                          narrative\n",
       "10741   credit_reporting  case reporting credit file reference credit ca...\n",
       "56763   credit_reporting  inquiry showing start authorize im blue face w...\n",
       "68461   credit_reporting  pulled credit alerted social security card get...\n",
       "28955   credit_reporting  victim identity notified collection creditor s...\n",
       "145778  credit_reporting  transunion violation fair credit understanding..."
      ]
     },
     "execution_count": 12,
     "metadata": {},
     "output_type": "execute_result"
    }
   ],
   "source": [
    "# Removing SNo column\n",
    "dataFrame.drop(['Unnamed: 0'], axis=1, inplace=True)\n",
    "dataFrame.head()"
   ]
  },
  {
   "cell_type": "code",
   "execution_count": 13,
   "id": "719b3456",
   "metadata": {},
   "outputs": [],
   "source": [
    "dataFrame.dropna(axis=0,inplace=True)"
   ]
  },
  {
   "cell_type": "code",
   "execution_count": 14,
   "id": "e9998678",
   "metadata": {},
   "outputs": [
    {
     "data": {
      "text/plain": [
       "(40603, 2)"
      ]
     },
     "execution_count": 14,
     "metadata": {},
     "output_type": "execute_result"
    }
   ],
   "source": [
    "dataFrame.shape"
   ]
  },
  {
   "cell_type": "markdown",
   "id": "07bc0b69",
   "metadata": {},
   "source": [
    "# Exploratory Data Analysis"
   ]
  },
  {
   "cell_type": "code",
   "execution_count": 15,
   "id": "1500306c",
   "metadata": {},
   "outputs": [
    {
     "data": {
      "text/plain": [
       "[<matplotlib.lines.Line2D at 0x7fec84059d90>]"
      ]
     },
     "execution_count": 15,
     "metadata": {},
     "output_type": "execute_result"
    },
    {
     "data": {
      "image/png": "[encoded data removed]",
      "text/plain": [
       "<Figure size 432x288 with 1 Axes>"
      ]
     },
     "metadata": {
      "needs_background": "light"
     },
     "output_type": "display_data"
    }
   ],
   "source": [
    "# Plotting word lenghts of narrative\n",
    "word_length = [len(x) for x in dataFrame['narrative']]\n",
    "plt.plot(word_length)"
   ]
  },
  {
   "cell_type": "code",
   "execution_count": 16,
   "id": "e96bf599",
   "metadata": {},
   "outputs": [
    {
     "data": {
      "text/plain": [
       "credit_reporting       22676\n",
       "debt_collection         5777\n",
       "mortgages_and_loans     4813\n",
       "credit_card             3896\n",
       "retail_banking          3441\n",
       "Name: product, dtype: int64"
      ]
     },
     "execution_count": 16,
     "metadata": {},
     "output_type": "execute_result"
    }
   ],
   "source": [
    "# Types of products\n",
    "dataFrame['product'].value_counts()"
   ]
  },
  {
   "cell_type": "code",
   "execution_count": 17,
   "id": "e30b01d8",
   "metadata": {},
   "outputs": [
    {
     "data": {
      "image/png": "[encoded data removed]",
      "text/plain": [
       "<Figure size 432x288 with 1 Axes>"
      ]
     },
     "metadata": {
      "needs_background": "light"
     },
     "output_type": "display_data"
    }
   ],
   "source": [
    "# Plotting product value counts\n",
    "dataFrame.groupby('product').count().plot(kind='bar')\n",
    "plt.show()"
   ]
  },
  {
   "cell_type": "code",
   "execution_count": 18,
   "id": "a888ec6e",
   "metadata": {},
   "outputs": [
    {
     "data": {
      "image/png": "[encoded data removed]",
      "text/plain": [
       "<Figure size 720x576 with 1 Axes>"
      ]
     },
     "metadata": {},
     "output_type": "display_data"
    }
   ],
   "source": [
    "plt.figure(figsize=(10,8))\n",
    "dataFrame['product'].value_counts().plot.pie(autopct=\"%1.1f%%\")\n",
    "plt.show()"
   ]
  },
  {
   "cell_type": "code",
   "execution_count": 19,
   "id": "c71bbc9d",
   "metadata": {},
   "outputs": [
    {
     "name": "stderr",
     "output_type": "stream",
     "text": [
      "/Users/ashish/opt/anaconda3/lib/python3.8/site-packages/seaborn/_decorators.py:36: FutureWarning: Pass the following variable as a keyword arg: x. From version 0.12, the only valid positional argument will be `data`, and passing other arguments without an explicit keyword will result in an error or misinterpretation.\n",
      "  warnings.warn(\n"
     ]
    },
    {
     "data": {
      "image/png": "[encoded data removed]",
      "text/plain": [
       "<Figure size 720x576 with 1 Axes>"
      ]
     },
     "metadata": {
      "needs_background": "light"
     },
     "output_type": "display_data"
    }
   ],
   "source": [
    "dataFrame['product'].nunique()\n",
    "fig=plt.figure(figsize=(10,8))\n",
    "ax = fig.add_subplot(111)\n",
    "s=sns.countplot('product', data = dataFrame)\n",
    "for s in ax.patches:\n",
    "    ax.annotate('{:.0f}'.format(s.get_height()), (s.get_x()+0.15, s.get_height()+1))\n",
    "plt.show()"
   ]
  },
  {
   "cell_type": "markdown",
   "id": "2d59ee0d",
   "metadata": {},
   "source": [
    "# Text Cleaning"
   ]
  },
  {
   "cell_type": "code",
   "execution_count": 20,
   "id": "b9c93945",
   "metadata": {},
   "outputs": [],
   "source": [
    "dataFrame[\"narrative\"]=dataFrame[\"narrative\"].str.lower()"
   ]
  },
  {
   "cell_type": "code",
   "execution_count": 21,
   "id": "9403b56e",
   "metadata": {},
   "outputs": [
    {
     "name": "stderr",
     "output_type": "stream",
     "text": [
      "<ipython-input-21-8d05994bbb2e>:1: FutureWarning: The default value of regex will change from True to False in a future version.\n",
      "  dataFrame['narrative'] = dataFrame['narrative'].str.replace(\"[^a-zA-Z]\", \" \")\n"
     ]
    }
   ],
   "source": [
    "dataFrame['narrative'] = dataFrame['narrative'].str.replace(\"[^a-zA-Z]\", \" \")"
   ]
  },
  {
   "cell_type": "code",
   "execution_count": 22,
   "id": "f65e6220",
   "metadata": {},
   "outputs": [],
   "source": [
    "dataFrame['narrative'] = dataFrame['narrative'].apply(lambda x: \" \".join([w for w in x.split() if len(w)>3]))"
   ]
  },
  {
   "cell_type": "code",
   "execution_count": 23,
   "id": "2c4ce84d",
   "metadata": {},
   "outputs": [],
   "source": [
    "def remove_spaces(data):\n",
    "    res = re.sub(' +', ' ',data)\n",
    "    return res"
   ]
  },
  {
   "cell_type": "code",
   "execution_count": 24,
   "id": "c96267ab",
   "metadata": {},
   "outputs": [],
   "source": [
    "dataFrame['narrative']=dataFrame['narrative'].apply(remove_spaces)"
   ]
  },
  {
   "cell_type": "markdown",
   "id": "05c68680",
   "metadata": {},
   "source": [
    "### Tokenization"
   ]
  },
  {
   "cell_type": "code",
   "execution_count": 25,
   "id": "aa34fe5b",
   "metadata": {},
   "outputs": [],
   "source": [
    "from nltk.tokenize import word_tokenize\n",
    "dataFrame['narrative'] = dataFrame['narrative'].astype(str)\n",
    "dataFrame['narrative'] = dataFrame['narrative'].apply(lambda x: nltk.word_tokenize(x))"
   ]
  },
  {
   "cell_type": "markdown",
   "id": "e7cccba9",
   "metadata": {},
   "source": [
    "## Removal of stopwords"
   ]
  },
  {
   "cell_type": "code",
   "execution_count": 26,
   "id": "1fbeb964",
   "metadata": {},
   "outputs": [],
   "source": [
    "from nltk.corpus import stopwords\n",
    "s = set(stopwords.words('english'))\n",
    "# Removing Stopwords\n",
    "def remove_stopwords(data):\n",
    "    txt_clean=[w for w in data if w not in s]\n",
    "    return txt_clean"
   ]
  },
  {
   "cell_type": "code",
   "execution_count": 27,
   "id": "5bd37b64",
   "metadata": {},
   "outputs": [],
   "source": [
    "dataFrame['narrative']=dataFrame['narrative'].apply(lambda x : remove_stopwords(x))"
   ]
  },
  {
   "cell_type": "markdown",
   "id": "b975730b",
   "metadata": {},
   "source": [
    "## Stemming"
   ]
  },
  {
   "cell_type": "raw",
   "id": "be5d8191",
   "metadata": {},
   "source": [
    "from nltk.stem.porter import PorterStemmer\n",
    "stemmer = PorterStemmer()\n",
    "dataFrame['narrative']= dataFrame['narrative'].apply(lambda x: [stemmer.stem(word) for word in x])"
   ]
  },
  {
   "cell_type": "markdown",
   "id": "c8aad733",
   "metadata": {},
   "source": [
    "### Lemmatization"
   ]
  },
  {
   "cell_type": "code",
   "execution_count": 28,
   "id": "d6ebe343",
   "metadata": {},
   "outputs": [],
   "source": [
    "from nltk.stem import WordNetLemmatizer\n",
    "lemmatizer = WordNetLemmatizer()\n",
    "dataFrame['narrative']= dataFrame['narrative'].apply(lambda x: [lemmatizer.lemmatize(word) for word in x])"
   ]
  },
  {
   "cell_type": "code",
   "execution_count": null,
   "id": "b4c1b7b3",
   "metadata": {},
   "outputs": [],
   "source": []
  },
  {
   "cell_type": "markdown",
   "id": "1cc1358a",
   "metadata": {},
   "source": [
    "## WordCloud"
   ]
  },
  {
   "cell_type": "code",
   "execution_count": null,
   "id": "856c1a59",
   "metadata": {},
   "outputs": [],
   "source": []
  },
  {
   "cell_type": "code",
   "execution_count": 29,
   "id": "bd5f6858",
   "metadata": {},
   "outputs": [
    {
     "name": "stdout",
     "output_type": "stream",
     "text": [
      "{'credit_reporting': 1, 'debt_collection': 2, 'mortgages_and_loans': 3, 'credit_card': 4, 'retail_banking': 5}\n"
     ]
    }
   ],
   "source": [
    "# Converting Categorical values into Numerical Vaues\n",
    "dict = {'credit_reporting' : 1, 'debt_collection' : 2 , 'mortgages_and_loans' : 3, 'credit_card' : 4, 'retail_banking' : 5}\n",
    "         \n",
    "# Print the dictionary\n",
    "print(dict)\n",
    "  \n",
    "# Remap the values of the dataframe\n",
    "dataFrame.replace({\"product\": dict},inplace=True)"
   ]
  },
  {
   "cell_type": "code",
   "execution_count": 30,
   "id": "a9d5e060",
   "metadata": {},
   "outputs": [
    {
     "data": {
      "text/html": [
       "<div>\n",
       "<style scoped>\n",
       "    .dataframe tbody tr th:only-of-type {\n",
       "        vertical-align: middle;\n",
       "    }\n",
       "\n",
       "    .dataframe tbody tr th {\n",
       "        vertical-align: top;\n",
       "    }\n",
       "\n",
       "    .dataframe thead th {\n",
       "        text-align: right;\n",
       "    }\n",
       "</style>\n",
       "<table border=\"1\" class=\"dataframe\">\n",
       "  <thead>\n",
       "    <tr style=\"text-align: right;\">\n",
       "      <th></th>\n",
       "      <th>product</th>\n",
       "      <th>narrative</th>\n",
       "    </tr>\n",
       "  </thead>\n",
       "  <tbody>\n",
       "    <tr>\n",
       "      <th>10741</th>\n",
       "      <td>1</td>\n",
       "      <td>[case, reporting, credit, file, reference, cre...</td>\n",
       "    </tr>\n",
       "    <tr>\n",
       "      <th>56763</th>\n",
       "      <td>1</td>\n",
       "      <td>[inquiry, showing, start, authorize, blue, fac...</td>\n",
       "    </tr>\n",
       "    <tr>\n",
       "      <th>68461</th>\n",
       "      <td>1</td>\n",
       "      <td>[pulled, credit, alerted, social, security, ca...</td>\n",
       "    </tr>\n",
       "    <tr>\n",
       "      <th>28955</th>\n",
       "      <td>1</td>\n",
       "      <td>[victim, identity, notified, collection, credi...</td>\n",
       "    </tr>\n",
       "    <tr>\n",
       "      <th>145778</th>\n",
       "      <td>1</td>\n",
       "      <td>[transunion, violation, fair, credit, understa...</td>\n",
       "    </tr>\n",
       "  </tbody>\n",
       "</table>\n",
       "</div>"
      ],
      "text/plain": [
       "        product                                          narrative\n",
       "10741         1  [case, reporting, credit, file, reference, cre...\n",
       "56763         1  [inquiry, showing, start, authorize, blue, fac...\n",
       "68461         1  [pulled, credit, alerted, social, security, ca...\n",
       "28955         1  [victim, identity, notified, collection, credi...\n",
       "145778        1  [transunion, violation, fair, credit, understa..."
      ]
     },
     "execution_count": 30,
     "metadata": {},
     "output_type": "execute_result"
    }
   ],
   "source": [
    "dataFrame.head()"
   ]
  },
  {
   "cell_type": "markdown",
   "id": "65112f95",
   "metadata": {},
   "source": [
    "## Train Test Split"
   ]
  },
  {
   "cell_type": "code",
   "execution_count": 31,
   "id": "e3041036",
   "metadata": {},
   "outputs": [],
   "source": [
    "X_train, X_test, y_train, y_test = train_test_split(dataFrame['narrative'],dataFrame['product'], test_size=0.2, random_state=42,stratify=dataFrame['product'])"
   ]
  },
  {
   "cell_type": "code",
   "execution_count": 32,
   "id": "6a0ce338",
   "metadata": {},
   "outputs": [],
   "source": [
    "X_train = pd.DataFrame(X_train)\n",
    "X_test = pd.DataFrame(X_test)"
   ]
  },
  {
   "cell_type": "code",
   "execution_count": 33,
   "id": "6c79ecec",
   "metadata": {},
   "outputs": [],
   "source": [
    "X_train['narrative']=X_train['narrative'].apply(str)"
   ]
  },
  {
   "cell_type": "code",
   "execution_count": null,
   "id": "0cbc7dcf",
   "metadata": {},
   "outputs": [],
   "source": []
  },
  {
   "cell_type": "markdown",
   "id": "ac78f209",
   "metadata": {},
   "source": [
    "## Feature extraction\n",
    "#### Using Bag of Words Technique we are going to convert text into numeric form"
   ]
  },
  {
   "cell_type": "code",
   "execution_count": 34,
   "id": "7b5ac8df",
   "metadata": {},
   "outputs": [],
   "source": [
    "from sklearn.feature_extraction.text import CountVectorizer\n",
    "\n",
    "bow_vec = CountVectorizer(lowercase=False)\n",
    "X_train['narrative']=X_train['narrative'].apply(str)\n",
    "bow1 = bow_vec.fit_transform(X_train['narrative'])"
   ]
  },
  {
   "cell_type": "code",
   "execution_count": 35,
   "id": "9b64e13b",
   "metadata": {},
   "outputs": [],
   "source": [
    "X_test['narrative']=X_test['narrative'].apply(str)\n",
    "bow2 = bow_vec.transform(X_test['narrative'])"
   ]
  },
  {
   "cell_type": "code",
   "execution_count": 37,
   "id": "528df517",
   "metadata": {},
   "outputs": [
    {
     "data": {
      "text/plain": [
       "pandas.core.frame.DataFrame"
      ]
     },
     "execution_count": 37,
     "metadata": {},
     "output_type": "execute_result"
    }
   ],
   "source": [
    "type(X_test)"
   ]
  },
  {
   "cell_type": "code",
   "execution_count": 38,
   "id": "b201234d",
   "metadata": {},
   "outputs": [],
   "source": [
    "X_test=pd.DataFrame(bow2.toarray())\n",
    "X_train=pd.DataFrame(bow1.toarray())"
   ]
  },
  {
   "cell_type": "code",
   "execution_count": 39,
   "id": "c57e923c",
   "metadata": {},
   "outputs": [
    {
     "data": {
      "text/plain": [
       "4892      1\n",
       "112323    1\n",
       "121093    4\n",
       "23897     1\n",
       "133269    1\n",
       "         ..\n",
       "79123     3\n",
       "44954     2\n",
       "14505     1\n",
       "28533     1\n",
       "51266     1\n",
       "Name: product, Length: 32482, dtype: int64"
      ]
     },
     "execution_count": 39,
     "metadata": {},
     "output_type": "execute_result"
    }
   ],
   "source": [
    "y_train"
   ]
  },
  {
   "cell_type": "code",
   "execution_count": 42,
   "id": "3bc7693c",
   "metadata": {},
   "outputs": [
    {
     "data": {
      "text/plain": [
       "1    22676\n",
       "2     5777\n",
       "3     4813\n",
       "4     3896\n",
       "5     3441\n",
       "Name: product, dtype: int64"
      ]
     },
     "execution_count": 42,
     "metadata": {},
     "output_type": "execute_result"
    }
   ],
   "source": [
    "dataFrame['product'].value_counts()"
   ]
  },
  {
   "cell_type": "markdown",
   "id": "f1cba6ee",
   "metadata": {},
   "source": [
    "## Model Building"
   ]
  },
  {
   "cell_type": "raw",
   "id": "c3b431ab",
   "metadata": {},
   "source": [
    "We build model by using Bag of words and TD-IDF techiniques\n",
    "Here we are building 4 models ,Computing accuracies of these all models we will select best accuracy model\n",
    "1.Random Forest Classifier\n",
    "2.Decision TreeClassifer\n",
    "3.Logistic Regression\n",
    "4.Naive_bayes "
   ]
  },
  {
   "cell_type": "markdown",
   "id": "67a4ee3f",
   "metadata": {},
   "source": [
    "## Model Buidling Using Bag of Words Technique"
   ]
  },
  {
   "cell_type": "markdown",
   "id": "8f1fb2f2",
   "metadata": {},
   "source": [
    "## 1.Random Forest Classifier"
   ]
  },
  {
   "cell_type": "code",
   "execution_count": 59,
   "id": "e79841ed",
   "metadata": {},
   "outputs": [
    {
     "data": {
      "text/plain": [
       "RandomForestClassifier()"
      ]
     },
     "execution_count": 59,
     "metadata": {},
     "output_type": "execute_result"
    }
   ],
   "source": [
    "from sklearn.ensemble import RandomForestClassifier\n",
    "model1=RandomForestClassifier()\n",
    "model1.fit(X_train, y_train)"
   ]
  },
  {
   "cell_type": "markdown",
   "id": "ecb8194b",
   "metadata": {},
   "source": [
    "## 2. Decision Tree Classifier"
   ]
  },
  {
   "cell_type": "code",
   "execution_count": 63,
   "id": "1928cd48",
   "metadata": {},
   "outputs": [
    {
     "data": {
      "text/plain": [
       "DecisionTreeClassifier()"
      ]
     },
     "execution_count": 63,
     "metadata": {},
     "output_type": "execute_result"
    }
   ],
   "source": [
    "model2= DecisionTreeClassifier()\n",
    "model2.fit(X_train, y_train)"
   ]
  },
  {
   "cell_type": "markdown",
   "id": "eacc176d",
   "metadata": {},
   "source": [
    "## 3. Logistics Regression"
   ]
  },
  {
   "cell_type": "code",
   "execution_count": 65,
   "id": "7a5b295b",
   "metadata": {},
   "outputs": [
    {
     "name": "stderr",
     "output_type": "stream",
     "text": [
      "/Users/ashish/opt/anaconda3/lib/python3.8/site-packages/sklearn/linear_model/_logistic.py:763: ConvergenceWarning: lbfgs failed to converge (status=1):\n",
      "STOP: TOTAL NO. of ITERATIONS REACHED LIMIT.\n",
      "\n",
      "Increase the number of iterations (max_iter) or scale the data as shown in:\n",
      "    https://scikit-learn.org/stable/modules/preprocessing.html\n",
      "Please also refer to the documentation for alternative solver options:\n",
      "    https://scikit-learn.org/stable/modules/linear_model.html#logistic-regression\n",
      "  n_iter_i = _check_optimize_result(\n"
     ]
    },
    {
     "data": {
      "text/plain": [
       "LogisticRegression()"
      ]
     },
     "execution_count": 65,
     "metadata": {},
     "output_type": "execute_result"
    }
   ],
   "source": [
    "model3=LogisticRegression( )\n",
    "model3.fit(X_train, y_train)"
   ]
  },
  {
   "cell_type": "markdown",
   "id": "750c8c43",
   "metadata": {},
   "source": [
    "## Model Testing"
   ]
  },
  {
   "cell_type": "code",
   "execution_count": 67,
   "id": "1c3f97f7",
   "metadata": {},
   "outputs": [],
   "source": [
    "# testing\n",
    "pred1 = model1.predict(X_test)\n",
    "pred2 = model2.predict(X_test)\n",
    "pred3 = model3.predict(X_test)"
   ]
  },
  {
   "cell_type": "code",
   "execution_count": 68,
   "id": "ef4faafd",
   "metadata": {},
   "outputs": [
    {
     "name": "stdout",
     "output_type": "stream",
     "text": [
      "---------------------------Model 1(RFC)--------------------\n",
      "              precision    recall  f1-score   support\n",
      "\n",
      "           1       0.83      0.97      0.89      4535\n",
      "           2       0.84      0.56      0.67      1156\n",
      "           3       0.85      0.73      0.78       963\n",
      "           4       0.79      0.56      0.65       779\n",
      "           5       0.82      0.78      0.80       688\n",
      "\n",
      "    accuracy                           0.83      8121\n",
      "   macro avg       0.83      0.72      0.76      8121\n",
      "weighted avg       0.83      0.83      0.82      8121\n",
      "\n",
      "---------------------------Model 2(DTC)--------------------\n",
      "              precision    recall  f1-score   support\n",
      "\n",
      "           1       0.85      0.89      0.87      4535\n",
      "           2       0.65      0.60      0.63      1156\n",
      "           3       0.72      0.66      0.69       963\n",
      "           4       0.64      0.60      0.62       779\n",
      "           5       0.70      0.69      0.70       688\n",
      "\n",
      "    accuracy                           0.78      8121\n",
      "   macro avg       0.71      0.69      0.70      8121\n",
      "weighted avg       0.77      0.78      0.78      8121\n",
      "\n",
      "---------------------------Model 3(LR)--------------------\n",
      "              precision    recall  f1-score   support\n",
      "\n",
      "           1       0.88      0.93      0.91      4535\n",
      "           2       0.75      0.66      0.70      1156\n",
      "           3       0.81      0.78      0.79       963\n",
      "           4       0.78      0.70      0.74       779\n",
      "           5       0.82      0.82      0.82       688\n",
      "\n",
      "    accuracy                           0.84      8121\n",
      "   macro avg       0.81      0.78      0.79      8121\n",
      "weighted avg       0.84      0.84      0.84      8121\n",
      "\n"
     ]
    }
   ],
   "source": [
    "# Model Evaluation\n",
    "print(\"---------------------------Model 1(RFC)--------------------\")\n",
    "print(classification_report(y_test, pred1))\n",
    "print(\"---------------------------Model 2(DTC)--------------------\")\n",
    "print(classification_report(y_test, pred2))\n",
    "print(\"---------------------------Model 3(LR)--------------------\")\n",
    "print(classification_report(y_test, pred3))"
   ]
  },
  {
   "cell_type": "raw",
   "id": "25e87e8f",
   "metadata": {},
   "source": [
    "We can see that model1 i.e Random forest clssifier has performed well"
   ]
  },
  {
   "cell_type": "code",
   "execution_count": null,
   "id": "4e4bec76",
   "metadata": {},
   "outputs": [],
   "source": []
  },
  {
   "cell_type": "markdown",
   "id": "332c93c1",
   "metadata": {},
   "source": [
    "## Model Buidling Using TF-IDF Technique"
   ]
  },
  {
   "cell_type": "code",
   "execution_count": 71,
   "id": "b0763254",
   "metadata": {},
   "outputs": [
    {
     "data": {
      "text/plain": [
       "<40603x23581 sparse matrix of type '<class 'numpy.float64'>'\n",
       "\twith 1961309 stored elements in Compressed Sparse Row format>"
      ]
     },
     "execution_count": 71,
     "metadata": {},
     "output_type": "execute_result"
    }
   ],
   "source": [
    "from sklearn.feature_extraction.text import TfidfVectorizer\n",
    "vectorizer = TfidfVectorizer(lowercase=False)\n",
    "dataFrame['narrative']=dataFrame['narrative'].apply(str)\n",
    "tfid = vectorizer.fit_transform(dataFrametaFrame['narrative'])\n",
    "tfid"
   ]
  },
  {
   "cell_type": "markdown",
   "id": "648b4c26",
   "metadata": {},
   "source": [
    "### Dividing Data into Training and Test data sets"
   ]
  },
  {
   "cell_type": "code",
   "execution_count": 73,
   "id": "404cee01",
   "metadata": {},
   "outputs": [],
   "source": [
    "x_train1, x_test1, y_train1, y_test1 = train_test_split(tfid,dataFrame['product'],random_state=42, test_size=0.3,stratify=dataFrame['product'])"
   ]
  },
  {
   "cell_type": "markdown",
   "id": "b8196d0d",
   "metadata": {},
   "source": [
    "## Random forest classfier"
   ]
  },
  {
   "cell_type": "code",
   "execution_count": 74,
   "id": "adc65d80",
   "metadata": {},
   "outputs": [
    {
     "data": {
      "text/plain": [
       "RandomForestClassifier()"
      ]
     },
     "execution_count": 74,
     "metadata": {},
     "output_type": "execute_result"
    }
   ],
   "source": [
    "model4=RandomForestClassifier()\n",
    "model4.fit(x_train1, y_train1)"
   ]
  },
  {
   "cell_type": "markdown",
   "id": "3a612987",
   "metadata": {},
   "source": [
    "## Decision Tree Classifier"
   ]
  },
  {
   "cell_type": "code",
   "execution_count": 75,
   "id": "432f9ad0",
   "metadata": {},
   "outputs": [
    {
     "data": {
      "text/plain": [
       "DecisionTreeClassifier()"
      ]
     },
     "execution_count": 75,
     "metadata": {},
     "output_type": "execute_result"
    }
   ],
   "source": [
    "model5= DecisionTreeClassifier()\n",
    "model5.fit(x_train1, y_train1)"
   ]
  },
  {
   "cell_type": "markdown",
   "id": "283a1f5a",
   "metadata": {},
   "source": [
    "## Logistic Regression"
   ]
  },
  {
   "cell_type": "code",
   "execution_count": 76,
   "id": "f7b41123",
   "metadata": {},
   "outputs": [
    {
     "name": "stderr",
     "output_type": "stream",
     "text": [
      "/Users/ashish/opt/anaconda3/lib/python3.8/site-packages/sklearn/linear_model/_logistic.py:763: ConvergenceWarning: lbfgs failed to converge (status=1):\n",
      "STOP: TOTAL NO. of ITERATIONS REACHED LIMIT.\n",
      "\n",
      "Increase the number of iterations (max_iter) or scale the data as shown in:\n",
      "    https://scikit-learn.org/stable/modules/preprocessing.html\n",
      "Please also refer to the documentation for alternative solver options:\n",
      "    https://scikit-learn.org/stable/modules/linear_model.html#logistic-regression\n",
      "  n_iter_i = _check_optimize_result(\n"
     ]
    },
    {
     "data": {
      "text/plain": [
       "LogisticRegression()"
      ]
     },
     "execution_count": 76,
     "metadata": {},
     "output_type": "execute_result"
    }
   ],
   "source": [
    "model6=LogisticRegression()\n",
    "model6.fit(x_train1, y_train1)"
   ]
  },
  {
   "cell_type": "code",
   "execution_count": 77,
   "id": "2d7077de",
   "metadata": {},
   "outputs": [],
   "source": [
    "pred4= model4.predict(x_test1)\n",
    "pred5= model5.predict(x_test1)\n",
    "pred6= model6.predict(x_test1)"
   ]
  },
  {
   "cell_type": "code",
   "execution_count": 78,
   "id": "870e27ab",
   "metadata": {},
   "outputs": [
    {
     "name": "stdout",
     "output_type": "stream",
     "text": [
      "---------------------------Model 1(RFC)--------------------\n",
      "              precision    recall  f1-score   support\n",
      "\n",
      "           1       0.83      0.97      0.89      6803\n",
      "           2       0.87      0.55      0.67      1733\n",
      "           3       0.85      0.74      0.79      1444\n",
      "           4       0.81      0.58      0.68      1169\n",
      "           5       0.83      0.80      0.81      1032\n",
      "\n",
      "    accuracy                           0.83     12181\n",
      "   macro avg       0.84      0.73      0.77     12181\n",
      "weighted avg       0.83      0.83      0.82     12181\n",
      "\n",
      "---------------------------Model 2(DTC)--------------------\n",
      "              precision    recall  f1-score   support\n",
      "\n",
      "           1       0.85      0.88      0.86      6803\n",
      "           2       0.62      0.60      0.61      1733\n",
      "           3       0.70      0.66      0.68      1444\n",
      "           4       0.58      0.56      0.57      1169\n",
      "           5       0.68      0.66      0.67      1032\n",
      "\n",
      "    accuracy                           0.76     12181\n",
      "   macro avg       0.69      0.67      0.68     12181\n",
      "weighted avg       0.76      0.76      0.76     12181\n",
      "\n",
      "---------------------------Model 3(LR)--------------------\n",
      "              precision    recall  f1-score   support\n",
      "\n",
      "           1       0.89      0.93      0.91      6803\n",
      "           2       0.79      0.69      0.74      1733\n",
      "           3       0.84      0.83      0.83      1444\n",
      "           4       0.79      0.73      0.76      1169\n",
      "           5       0.84      0.84      0.84      1032\n",
      "\n",
      "    accuracy                           0.86     12181\n",
      "   macro avg       0.83      0.80      0.82     12181\n",
      "weighted avg       0.86      0.86      0.86     12181\n",
      "\n"
     ]
    }
   ],
   "source": [
    "print(\"---------------------------Model 1(RFC)--------------------\")\n",
    "print(classification_report(y_test1, pred4))\n",
    "print(\"---------------------------Model 2(DTC)--------------------\")\n",
    "print(classification_report(y_test1, pred5))\n",
    "print(\"---------------------------Model 3(LR)--------------------\")\n",
    "print(classification_report(y_test1, pred6))"
   ]
  },
  {
   "cell_type": "markdown",
   "id": "5964e5fc",
   "metadata": {},
   "source": [
    "## Model Testing"
   ]
  },
  {
   "cell_type": "code",
   "execution_count": 81,
   "id": "0a3ac005",
   "metadata": {},
   "outputs": [
    {
     "name": "stdout",
     "output_type": "stream",
     "text": [
      "Accuracy Score of model3 by using Bag of words 84.3\n"
     ]
    }
   ],
   "source": [
    "from sklearn.metrics import confusion_matrix\n",
    "mat=confusion_matrix(y_test,pred3)\n",
    "s=accuracy_score(y_test,pred3)\n",
    "print(\"Accuracy Score of model3 by using Bag of words\",round(s*100,2))"
   ]
  },
  {
   "cell_type": "code",
   "execution_count": null,
   "id": "960cf9d3",
   "metadata": {},
   "outputs": [],
   "source": []
  },
  {
   "cell_type": "code",
   "execution_count": null,
   "id": "a86d0db2",
   "metadata": {},
   "outputs": [],
   "source": []
  },
  {
   "cell_type": "code",
   "execution_count": null,
   "id": "55518436",
   "metadata": {},
   "outputs": [],
   "source": []
  },
  {
   "cell_type": "code",
   "execution_count": null,
   "id": "1e3dda22",
   "metadata": {},
   "outputs": [],
   "source": []
  },
  {
   "cell_type": "code",
   "execution_count": 43,
   "id": "9014bed7",
   "metadata": {},
   "outputs": [
    {
     "name": "stderr",
     "output_type": "stream",
     "text": [
      "/Users/ashish/opt/anaconda3/lib/python3.8/site-packages/sklearn/linear_model/_logistic.py:763: ConvergenceWarning: lbfgs failed to converge (status=1):\n",
      "STOP: TOTAL NO. of ITERATIONS REACHED LIMIT.\n",
      "\n",
      "Increase the number of iterations (max_iter) or scale the data as shown in:\n",
      "    https://scikit-learn.org/stable/modules/preprocessing.html\n",
      "Please also refer to the documentation for alternative solver options:\n",
      "    https://scikit-learn.org/stable/modules/linear_model.html#logistic-regression\n",
      "  n_iter_i = _check_optimize_result(\n"
     ]
    },
    {
     "data": {
      "text/plain": [
       "LogisticRegression()"
      ]
     },
     "execution_count": 43,
     "metadata": {},
     "output_type": "execute_result"
    }
   ],
   "source": [
    "from sklearn.linear_model import LogisticRegression\n",
    "classifier = LogisticRegression()\n",
    "classifier.fit(X_train, y_train)"
   ]
  },
  {
   "cell_type": "code",
   "execution_count": 44,
   "id": "f0e9fce6",
   "metadata": {},
   "outputs": [],
   "source": [
    "y_pred = classifier.predict(X_test)"
   ]
  },
  {
   "cell_type": "code",
   "execution_count": 45,
   "id": "2644d7d0",
   "metadata": {},
   "outputs": [
    {
     "name": "stdout",
     "output_type": "stream",
     "text": [
      "[[4228  166   88   43   10]\n",
      " [ 299  763   48   34   12]\n",
      " [ 137   46  747   16   17]\n",
      " [  98   32   22  546   81]\n",
      " [  28   15   18   65  562]]\n"
     ]
    }
   ],
   "source": [
    "from sklearn.metrics import confusion_matrix\n",
    "cm = confusion_matrix(y_test, y_pred)\n",
    "print(cm)"
   ]
  },
  {
   "cell_type": "code",
   "execution_count": 46,
   "id": "adf6390a",
   "metadata": {},
   "outputs": [
    {
     "name": "stdout",
     "output_type": "stream",
     "text": [
      "Confusion Matrix:\n",
      "\n",
      " [[4228  166   88   43   10]\n",
      " [ 299  763   48   34   12]\n",
      " [ 137   46  747   16   17]\n",
      " [  98   32   22  546   81]\n",
      " [  28   15   18   65  562]]\n",
      "\n",
      "\n",
      "Classification Report:\n",
      "\n",
      "               precision    recall  f1-score   support\n",
      "\n",
      "           1       0.88      0.93      0.91      4535\n",
      "           2       0.75      0.66      0.70      1156\n",
      "           3       0.81      0.78      0.79       963\n",
      "           4       0.78      0.70      0.74       779\n",
      "           5       0.82      0.82      0.82       688\n",
      "\n",
      "    accuracy                           0.84      8121\n",
      "   macro avg       0.81      0.78      0.79      8121\n",
      "weighted avg       0.84      0.84      0.84      8121\n",
      "\n"
     ]
    }
   ],
   "source": [
    "print(\"Confusion Matrix:\\n\\n\",confusion_matrix(y_test,y_pred))\n",
    "print(\"\\n\")\n",
    "print(\"Classification Report:\\n\\n\",classification_report(y_test,y_pred))"
   ]
  },
  {
   "cell_type": "code",
   "execution_count": null,
   "id": "cf323ceb",
   "metadata": {},
   "outputs": [],
   "source": []
  },
  {
   "cell_type": "code",
   "execution_count": null,
   "id": "82509cf5",
   "metadata": {},
   "outputs": [],
   "source": []
  },
  {
   "cell_type": "code",
   "execution_count": null,
   "id": "7ba3fbe7",
   "metadata": {},
   "outputs": [],
   "source": []
  },
  {
   "cell_type": "code",
   "execution_count": null,
   "id": "08e008a3",
   "metadata": {},
   "outputs": [],
   "source": []
  },
  {
   "cell_type": "code",
   "execution_count": null,
   "id": "e6d2727b",
   "metadata": {},
   "outputs": [],
   "source": []
  },
  {
   "cell_type": "code",
   "execution_count": null,
   "id": "b68282ba",
   "metadata": {},
   "outputs": [],
   "source": []
  },
  {
   "cell_type": "code",
   "execution_count": null,
   "id": "1b7b489e",
   "metadata": {},
   "outputs": [],
   "source": []
  },
  {
   "cell_type": "code",
   "execution_count": null,
   "id": "25449cef",
   "metadata": {},
   "outputs": [],
   "source": []
  },
  {
   "cell_type": "code",
   "execution_count": 47,
   "id": "6731e0e2",
   "metadata": {},
   "outputs": [],
   "source": [
    "#Using RandomForest Classifier\n",
    "\n",
    "rfc = RandomForestClassifier(n_jobs=-1)\n",
    "rfc_model = rfc.fit(X_train,y_train)"
   ]
  },
  {
   "cell_type": "code",
   "execution_count": 48,
   "id": "876278d6",
   "metadata": {},
   "outputs": [],
   "source": [
    "#Create Pridiction\n",
    "prediction = rfc_model.predict(X_test)"
   ]
  },
  {
   "cell_type": "code",
   "execution_count": 49,
   "id": "9fadbbd1",
   "metadata": {},
   "outputs": [
    {
     "name": "stdout",
     "output_type": "stream",
     "text": [
      "Confusion Matrix:\n",
      "\n",
      " [[4398   77   37   14    9]\n",
      " [ 449  644   37   19    7]\n",
      " [ 197   32  703   11   20]\n",
      " [ 207   11   29  451   81]\n",
      " [  48    7   14   68  551]]\n",
      "\n",
      "\n",
      "Classification Report:\n",
      "\n",
      "               precision    recall  f1-score   support\n",
      "\n",
      "           1       0.83      0.97      0.89      4535\n",
      "           2       0.84      0.56      0.67      1156\n",
      "           3       0.86      0.73      0.79       963\n",
      "           4       0.80      0.58      0.67       779\n",
      "           5       0.82      0.80      0.81       688\n",
      "\n",
      "    accuracy                           0.83      8121\n",
      "   macro avg       0.83      0.73      0.77      8121\n",
      "weighted avg       0.83      0.83      0.82      8121\n",
      "\n"
     ]
    }
   ],
   "source": [
    "print(\"Confusion Matrix:\\n\\n\",confusion_matrix(y_test,prediction))\n",
    "print(\"\\n\")\n",
    "print(\"Classification Report:\\n\\n\",classification_report(y_test,prediction))"
   ]
  },
  {
   "cell_type": "code",
   "execution_count": 50,
   "id": "b31e43e7",
   "metadata": {},
   "outputs": [
    {
     "data": {
      "text/plain": [
       "Text(0.5, 1.0, 'Confusion Matrix')"
      ]
     },
     "execution_count": 50,
     "metadata": {},
     "output_type": "execute_result"
    },
    {
     "data": {
      "text/plain": [
       "<Figure size 720x720 with 0 Axes>"
      ]
     },
     "metadata": {},
     "output_type": "display_data"
    },
    {
     "data": {
      "image/png": "[encoded data removed]",
      "text/plain": [
       "<Figure size 432x288 with 2 Axes>"
      ]
     },
     "metadata": {
      "needs_background": "light"
     },
     "output_type": "display_data"
    }
   ],
   "source": [
    "#Plotting normalized confusion matrix\n",
    "class_names = ['credit_card','credit_reporting','debt_collection','mortgages_and_loans','retail_banking']\n",
    "plt.figure(figsize=(10,10))\n",
    "plot_confusion_matrix(rfc,X_test,y_test,cmap=plt.cm.Blues)\n",
    "plt.xticks(rotation=90)\n",
    "plt.title(\"Confusion Matrix\")"
   ]
  },
  {
   "cell_type": "code",
   "execution_count": null,
   "id": "c6bbbe35",
   "metadata": {},
   "outputs": [],
   "source": []
  },
  {
   "cell_type": "code",
   "execution_count": null,
   "id": "ef073c55",
   "metadata": {},
   "outputs": [],
   "source": []
  },
  {
   "cell_type": "code",
   "execution_count": null,
   "id": "9e50b493",
   "metadata": {},
   "outputs": [],
   "source": []
  },
  {
   "cell_type": "code",
   "execution_count": 90,
   "id": "321293a2",
   "metadata": {},
   "outputs": [],
   "source": [
    "import pickle\n",
    "pickle.dump(rfc,open('rfc.pkl',\"wb\"))\n",
    "pickle.dump(bow_vec,open('bow_vec.pkl',\"wb\"))"
   ]
  },
  {
   "cell_type": "code",
   "execution_count": 91,
   "id": "45907119",
   "metadata": {},
   "outputs": [],
   "source": [
    "def predict(text_input):\n",
    "    \n",
    "    df = pd.DataFrame([text_input],columns=['text'])\n",
    "    df['text'] = df['text'].str.lower()\n",
    "    df['text'] = df['text'].str.replace(\"[^a-zA-Z]\", \" \")\n",
    "    df['text'] = df['text'].apply(lambda x: \" \".join([w for w in x.split() if len(w)>3]))\n",
    "    bow1 = bow_vec.transform( df['text'])\n",
    "    final = pd.DataFrame(bow1.toarray())\n",
    "    prediction = rfc.predict(final)\n",
    "    if prediction == 1 :\n",
    "        print(\"credit_reporting\")\n",
    "    elif prediction== 2:\n",
    "        print(\"debt_collection\")\n",
    "    elif prediction== 3:\n",
    "        print(\"mortgages_and_loans\")\n",
    "    elif prediction== 4:\n",
    "        print(\"credit_card\")\n",
    "    else:\n",
    "        print(\"retail_banking\")\n",
    "    "
   ]
  },
  {
   "cell_type": "code",
   "execution_count": 92,
   "id": "cca9e0e0",
   "metadata": {},
   "outputs": [
    {
     "name": "stdout",
     "output_type": "stream",
     "text": [
      "credit_reporting\n"
     ]
    }
   ],
   "source": [
    "predict(\"victim identity someone use identity consent\")"
   ]
  },
  {
   "cell_type": "code",
   "execution_count": 93,
   "id": "07866a38",
   "metadata": {},
   "outputs": [
    {
     "name": "stdout",
     "output_type": "stream",
     "text": [
      "debt_collection\n"
     ]
    }
   ],
   "source": [
    "predict(\"entered debt settlement agreement bank written\")"
   ]
  },
  {
   "cell_type": "code",
   "execution_count": 54,
   "id": "0eadd8e2",
   "metadata": {},
   "outputs": [],
   "source": [
    "dict = {'credit_reporting' : 1, 'debt_collection' : 2 , 'mortgages_and_loans' : 3, 'credit_card' : 4, 'retail_banking' : 5}"
   ]
  },
  {
   "cell_type": "code",
   "execution_count": null,
   "id": "b7b019c5",
   "metadata": {},
   "outputs": [],
   "source": []
  },
  {
   "cell_type": "code",
   "execution_count": null,
   "id": "fd540a7e",
   "metadata": {},
   "outputs": [],
   "source": []
  },
  {
   "cell_type": "code",
   "execution_count": null,
   "id": "9b05df36",
   "metadata": {},
   "outputs": [],
   "source": []
  },
  {
   "cell_type": "code",
   "execution_count": null,
   "id": "bddfa880",
   "metadata": {},
   "outputs": [],
   "source": []
  },
  {
   "cell_type": "code",
   "execution_count": null,
   "id": "b732cde5",
   "metadata": {},
   "outputs": [],
   "source": []
  },
  {
   "cell_type": "code",
   "execution_count": null,
   "id": "acc7c88d",
   "metadata": {},
   "outputs": [],
   "source": []
  },
  {
   "cell_type": "code",
   "execution_count": null,
   "id": "6f35f9b9",
   "metadata": {},
   "outputs": [],
   "source": []
  },
  {
   "cell_type": "code",
   "execution_count": null,
   "id": "768f6986",
   "metadata": {},
   "outputs": [],
   "source": []
  },
  {
   "cell_type": "code",
   "execution_count": null,
   "id": "30cdd938",
   "metadata": {},
   "outputs": [],
   "source": []
  },
  {
   "cell_type": "code",
   "execution_count": null,
   "id": "1440f0f3",
   "metadata": {},
   "outputs": [],
   "source": []
  }
 ],
 "metadata": {
  "kernelspec": {
   "display_name": "Python 3",
   "language": "python",
   "name": "python3"
  },
  "language_info": {
   "codemirror_mode": {
    "name": "ipython",
    "version": 3
   },
   "file_extension": ".py",
   "mimetype": "text/x-python",
   "name": "python",
   "nbconvert_exporter": "python",
   "pygments_lexer": "ipython3",
   "version": "3.8.8"
  }
 },
 "nbformat": 4,
 "nbformat_minor": 5
}
